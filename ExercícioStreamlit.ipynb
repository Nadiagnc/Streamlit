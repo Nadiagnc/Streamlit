{
  "nbformat": 4,
  "nbformat_minor": 0,
  "metadata": {
    "colab": {
      "provenance": []
    },
    "kernelspec": {
      "name": "python3",
      "display_name": "Python 3"
    },
    "language_info": {
      "name": "python"
    }
  },
  "cells": [
    {
      "cell_type": "code",
      "execution_count": 1,
      "metadata": {
        "id": "xmxvwEzlrr72"
      },
      "outputs": [],
      "source": [
        "import pandas as pd\n",
        "import numpy as np\n",
        "import plotly.express as px\n",
        "import datetime"
      ]
    },
    {
      "cell_type": "code",
      "source": [
        "from google.colab import drive\n",
        "drive.mount('/content/drive')"
      ],
      "metadata": {
        "colab": {
          "base_uri": "https://localhost:8080/"
        },
        "id": "vc9TCCSIsA7R",
        "outputId": "798698b1-a0d7-439c-a98a-010477f89ef0"
      },
      "execution_count": 3,
      "outputs": [
        {
          "output_type": "stream",
          "name": "stdout",
          "text": [
            "Mounted at /content/drive\n"
          ]
        }
      ]
    },
    {
      "cell_type": "code",
      "source": [
        "Nagem=pd.read_csv('/content/drive/MyDrive/Colab Notebooks/RECLAMEAQUI_NAGEM.csv')"
      ],
      "metadata": {
        "id": "2ZuUpjsnr3D5"
      },
      "execution_count": 4,
      "outputs": []
    },
    {
      "cell_type": "code",
      "source": [
        "!pip install -q streamlit\n"
      ],
      "metadata": {
        "colab": {
          "base_uri": "https://localhost:8080/"
        },
        "id": "yojXk4GEsO-r",
        "outputId": "83427b44-e71e-4b4c-9243-b7ea0d63abb6"
      },
      "execution_count": 5,
      "outputs": [
        {
          "output_type": "stream",
          "name": "stdout",
          "text": [
            "\u001b[2K     \u001b[90m━━━━━━━━━━━━━━━━━━━━━━━━━━━━━━━━━━━━━━━━\u001b[0m \u001b[32m8.4/8.4 MB\u001b[0m \u001b[31m35.3 MB/s\u001b[0m eta \u001b[36m0:00:00\u001b[0m\n",
            "\u001b[2K     \u001b[90m━━━━━━━━━━━━━━━━━━━━━━━━━━━━━━━━━━━━━━━━\u001b[0m \u001b[32m196.4/196.4 kB\u001b[0m \u001b[31m21.1 MB/s\u001b[0m eta \u001b[36m0:00:00\u001b[0m\n",
            "\u001b[2K     \u001b[90m━━━━━━━━━━━━━━━━━━━━━━━━━━━━━━━━━━━━━━━━\u001b[0m \u001b[32m4.8/4.8 MB\u001b[0m \u001b[31m50.1 MB/s\u001b[0m eta \u001b[36m0:00:00\u001b[0m\n",
            "\u001b[2K     \u001b[90m━━━━━━━━━━━━━━━━━━━━━━━━━━━━━━━━━━━━━━━━\u001b[0m \u001b[32m82.1/82.1 kB\u001b[0m \u001b[31m10.9 MB/s\u001b[0m eta \u001b[36m0:00:00\u001b[0m\n",
            "\u001b[2K     \u001b[90m━━━━━━━━━━━━━━━━━━━━━━━━━━━━━━━━━━━━━━━━\u001b[0m \u001b[32m62.7/62.7 kB\u001b[0m \u001b[31m8.1 MB/s\u001b[0m eta \u001b[36m0:00:00\u001b[0m\n",
            "\u001b[?25h"
          ]
        }
      ]
    },
    {
      "cell_type": "code",
      "source": [
        "import streamlit as st\n"
      ],
      "metadata": {
        "id": "Nwbpm7arsT7a"
      },
      "execution_count": 6,
      "outputs": []
    },
    {
      "cell_type": "code",
      "source": [
        "lista_localidade=list(Nagem['LOCAL'].unique())\n",
        "lista_localidade"
      ],
      "metadata": {
        "colab": {
          "base_uri": "https://localhost:8080/"
        },
        "id": "w4xU2ufUsYl5",
        "outputId": "3354af63-c78f-4c35-8de8-2e114510e4a6"
      },
      "execution_count": 7,
      "outputs": [
        {
          "output_type": "execute_result",
          "data": {
            "text/plain": [
              "['Fortaleza - CE',\n",
              " 'Recife - PE',\n",
              " 'Salvador - BA',\n",
              " 'Olinda - PE',\n",
              " 'São José de Mipibu - RN',\n",
              " 'Jaboatão dos Guararapes - PE',\n",
              " 'Abreu e Lima - PE',\n",
              " 'Aracaju - SE',\n",
              " 'Beberibe - CE',\n",
              " 'Cupira - PE',\n",
              " 'Feira de Santana - BA',\n",
              " 'Aliança - PE',\n",
              " 'Brumado - BA',\n",
              " 'São Paulo - SP',\n",
              " 'Juazeiro - BA',\n",
              " 'Natal - RN',\n",
              " 'Itabaiana - SE',\n",
              " 'Paulista - PE',\n",
              " 'Petrolina - PE',\n",
              " 'João Pessoa - PB',\n",
              " 'Vitória de Santo Antão - PE',\n",
              " 'Caruaru - PE',\n",
              " 'Aquidabã - SE',\n",
              " 'Arcoverde - PE',\n",
              " 'Bom Jesus da Lapa - BA',\n",
              " 'Sete Lagoas - MG',\n",
              " 'Rio de Janeiro - RJ',\n",
              " 'São Cristóvão - SE',\n",
              " 'São José de Ribamar - MA',\n",
              " 'Bezerros - PE',\n",
              " 'Nísia Floresta - RN',\n",
              " 'São Bernardo do Campo - SP',\n",
              " 'Curaçá - BA',\n",
              " 'Cabo de Santo Agostinho - PE',\n",
              " 'Petrolândia - PE',\n",
              " 'Eusébio - CE',\n",
              " 'Belo Jardim - PE',\n",
              " 'Campina Grande - PB',\n",
              " 'Ananindeua - PA',\n",
              " 'Ruy Barbosa - BA',\n",
              " 'São Luís - MA',\n",
              " 'Florianópolis - SC',\n",
              " 'São Caitano - PE',\n",
              " 'Teresina - PI',\n",
              " 'Sento Sé - BA',\n",
              " 'Belém - PA',\n",
              " 'Sobral - CE',\n",
              " 'Osasco - SP',\n",
              " 'Camaragibe - PE',\n",
              " 'Parnamirim - RN',\n",
              " 'Ipatinga - MG',\n",
              " 'Machados - PE',\n",
              " 'Barra dos Coqueiros - SE',\n",
              " 'naoconsta - naoconsta',\n",
              " 'Glória do Goitá - PE',\n",
              " 'Mossoró - RN',\n",
              " 'Patos - PB',\n",
              " 'Maracanaú - CE',\n",
              " 'Senhor do Bonfim - BA',\n",
              " 'Almeirim - PA',\n",
              " 'Salgueiro - PE',\n",
              " 'São Raimundo Nonato - PI',\n",
              " 'Belém - AL',\n",
              " 'Caridade - CE',\n",
              " 'Lauro de Freitas - BA',\n",
              " 'Alagoa Grande - PB',\n",
              " 'Carpina - PE',\n",
              " 'Russas - CE',\n",
              " 'Caxias - MA',\n",
              " 'Nossa Senhora do Socorro - SE',\n",
              " 'Uberlândia - MG',\n",
              " 'Itapiranga - AM',\n",
              " 'São João dos Patos - MA',\n",
              " 'São Lourenço da Mata - PE',\n",
              " 'Juazeiro do Norte - CE',\n",
              " 'Bonito - PA',\n",
              " 'Maceió - AL',\n",
              " 'Gameleira - PE',\n",
              " 'Itabaianinha - SE',\n",
              " 'Igarassu - PE',\n",
              " 'Tibau do Sul - RN',\n",
              " 'Camaçari - BA',\n",
              " 'Riacho de Santana - BA',\n",
              " 'Pesqueira - PE',\n",
              " 'Presidente Prudente - SP',\n",
              " 'Caucaia - CE',\n",
              " 'Crato - CE',\n",
              " 'Santa Rita - PB',\n",
              " 'Gravatá - PE',\n",
              " 'Tabuleiro do Norte - CE',\n",
              " 'Boa Vista - RR',\n",
              " 'Iguatu - CE',\n",
              " 'Brasília - DF',\n",
              " 'Cedro - CE',\n",
              " 'Indaiatuba - SP',\n",
              " 'Barreira - CE',\n",
              " 'Tupanatinga - PE',\n",
              " 'Ribeirão - PE',\n",
              " 'Rio Largo - AL',\n",
              " 'Macapá - AP',\n",
              " '-- - MA',\n",
              " 'Cumaru - PE',\n",
              " 'Belo Horizonte - MG',\n",
              " 'Sumé - PB',\n",
              " 'Milagres - CE',\n",
              " 'São Francisco do Conde - BA',\n",
              " 'Pacatuba - CE',\n",
              " 'Lençóis - BA',\n",
              " 'Itanhaém - SP',\n",
              " 'Timon - MA',\n",
              " 'São Gonçalo do Amarante - RN',\n",
              " 'Conceição da Feira - BA',\n",
              " 'Sirinhaém - PE',\n",
              " 'Boquim - SE',\n",
              " 'Oeiras - PI',\n",
              " 'Areia Branca - SE',\n",
              " 'Simões Filho - BA',\n",
              " 'Lajedo - PE']"
            ]
          },
          "metadata": {},
          "execution_count": 7
        }
      ]
    },
    {
      "cell_type": "code",
      "source": [
        "localidade='Fortaleza - CE'\n"
      ],
      "metadata": {
        "id": "_PxTgiluseDb"
      },
      "execution_count": 8,
      "outputs": []
    },
    {
      "cell_type": "code",
      "source": [
        "if localidade !='FORTALEZA - CE':\n",
        "  Reclamacao= Nagem[Nagem['LOCAL']==localidade]['CASOS'].count()\n",
        "  Reclamacao\n",
        "\n",
        "if localidade =='FORTALEZA':\n",
        "  Reclamacao=Nagem['CASOS'].count()\n",
        "  Reclamacao"
      ],
      "metadata": {
        "id": "uzRYAFxgsiAp"
      },
      "execution_count": 9,
      "outputs": []
    },
    {
      "cell_type": "code",
      "source": [
        "print(\"Para a localidade de \",localidade, \"tem\", Reclamacao, \"Reclamações\")"
      ],
      "metadata": {
        "colab": {
          "base_uri": "https://localhost:8080/"
        },
        "id": "6CayTYOtsliR",
        "outputId": "c0e0e3d8-09c8-4353-ddd1-a39c1a3c9296"
      },
      "execution_count": 10,
      "outputs": [
        {
          "output_type": "stream",
          "name": "stdout",
          "text": [
            "Para a localidade de  Fortaleza - CE tem 152 Reclamações\n"
          ]
        }
      ]
    },
    {
      "cell_type": "code",
      "source": [
        "if localidade !='FORTALEZA - CE':\n",
        "  Status= Nagem[Nagem['LOCAL']==localidade]['STATUS'].value_counts()\n",
        "  Status\n",
        "\n",
        "if localidade =='FORTALEZA':\n",
        "  Status=Nagem['STATUS'].value_counts()\n",
        "  Status"
      ],
      "metadata": {
        "id": "oCC_kmSKsnAO"
      },
      "execution_count": 11,
      "outputs": []
    },
    {
      "cell_type": "code",
      "source": [
        "print(\"Para a localidade de \",localidade, \"tem\", Status, \"Reclamações\")"
      ],
      "metadata": {
        "colab": {
          "base_uri": "https://localhost:8080/"
        },
        "id": "7-aZoZXqsryS",
        "outputId": "6cfb9a15-c8f3-4572-eb72-c99cbf820309"
      },
      "execution_count": 12,
      "outputs": [
        {
          "output_type": "stream",
          "name": "stdout",
          "text": [
            "Para a localidade de  Fortaleza - CE tem Respondida       60\n",
            "Em réplica       34\n",
            "Resolvido        30\n",
            "Não resolvido    28\n",
            "Name: STATUS, dtype: int64 Reclamações\n"
          ]
        }
      ]
    },
    {
      "cell_type": "code",
      "source": [
        "st.title('NAGEM RECLAMAÇÕES DASHBOARD')\n",
        "localidade = st.selectbox(\n",
        "    'SELECIONE A LOCALIDADE',\n",
        "    lista_localidade)"
      ],
      "metadata": {
        "colab": {
          "base_uri": "https://localhost:8080/"
        },
        "id": "J1GqFNupswF5",
        "outputId": "4b7554df-eb39-4bc2-e3cc-b2aaae85988e"
      },
      "execution_count": 13,
      "outputs": [
        {
          "output_type": "stream",
          "name": "stderr",
          "text": [
            "2024-01-22 01:05:05.201 \n",
            "  \u001b[33m\u001b[1mWarning:\u001b[0m to view this Streamlit app on a browser, run it with the following\n",
            "  command:\n",
            "\n",
            "    streamlit run /usr/local/lib/python3.10/dist-packages/colab_kernel_launcher.py [ARGUMENTS]\n"
          ]
        }
      ]
    },
    {
      "cell_type": "code",
      "source": [],
      "metadata": {
        "id": "667l4oO-t_jP"
      },
      "execution_count": null,
      "outputs": []
    }
  ]
}