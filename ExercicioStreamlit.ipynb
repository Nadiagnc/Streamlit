{
  "cells": [
    {
      "cell_type": "code",
      "execution_count": 1,
      "id": "e931273c",
      "metadata": {
        "colab": {
          "base_uri": "https://localhost:8080/"
        },
        "id": "e931273c",
        "outputId": "8c14b0f9-02e5-4cda-c213-e2c253842132"
      },
      "outputs": [
        {
          "output_type": "stream",
          "name": "stdout",
          "text": [
            "\u001b[2K     \u001b[90m━━━━━━━━━━━━━━━━━━━━━━━━━━━━━━━━━━━━━━━━\u001b[0m \u001b[32m8.4/8.4 MB\u001b[0m \u001b[31m25.1 MB/s\u001b[0m eta \u001b[36m0:00:00\u001b[0m\n",
            "\u001b[2K     \u001b[90m━━━━━━━━━━━━━━━━━━━━━━━━━━━━━━━━━━━━━━━━\u001b[0m \u001b[32m196.4/196.4 kB\u001b[0m \u001b[31m16.2 MB/s\u001b[0m eta \u001b[36m0:00:00\u001b[0m\n",
            "\u001b[2K     \u001b[90m━━━━━━━━━━━━━━━━━━━━━━━━━━━━━━━━━━━━━━━━\u001b[0m \u001b[32m4.8/4.8 MB\u001b[0m \u001b[31m61.1 MB/s\u001b[0m eta \u001b[36m0:00:00\u001b[0m\n",
            "\u001b[2K     \u001b[90m━━━━━━━━━━━━━━━━━━━━━━━━━━━━━━━━━━━━━━━━\u001b[0m \u001b[32m82.1/82.1 kB\u001b[0m \u001b[31m6.6 MB/s\u001b[0m eta \u001b[36m0:00:00\u001b[0m\n",
            "\u001b[2K     \u001b[90m━━━━━━━━━━━━━━━━━━━━━━━━━━━━━━━━━━━━━━━━\u001b[0m \u001b[32m62.7/62.7 kB\u001b[0m \u001b[31m5.5 MB/s\u001b[0m eta \u001b[36m0:00:00\u001b[0m\n",
            "\u001b[?25h"
          ]
        }
      ],
      "source": [
        "!pip install -q streamlit\n"
      ]
    },
    {
      "cell_type": "code",
      "execution_count": 2,
      "id": "fefbe0f9",
      "metadata": {
        "id": "fefbe0f9"
      },
      "outputs": [],
      "source": [
        "import pandas as pd\n",
        "import numpy as np\n",
        "import plotly.express as px\n",
        "import datetime\n",
        "import streamlit as st\n"
      ]
    },
    {
      "cell_type": "code",
      "execution_count": 3,
      "id": "f6aab6b4",
      "metadata": {
        "id": "f6aab6b4"
      },
      "outputs": [],
      "source": [
        "st.set_page_config(layout=\"wide\")"
      ]
    },
    {
      "cell_type": "code",
      "source": [
        "from google.colab import drive\n",
        "drive.mount('/content/drive')"
      ],
      "metadata": {
        "colab": {
          "base_uri": "https://localhost:8080/"
        },
        "id": "Sjt7EMepD8bc",
        "outputId": "cff936b9-3280-416e-c048-891cf3effa3f"
      },
      "id": "Sjt7EMepD8bc",
      "execution_count": 7,
      "outputs": [
        {
          "output_type": "stream",
          "name": "stdout",
          "text": [
            "Mounted at /content/drive\n"
          ]
        }
      ]
    },
    {
      "cell_type": "code",
      "execution_count": 8,
      "id": "c0df309b",
      "metadata": {
        "id": "c0df309b"
      },
      "outputs": [],
      "source": [
        "Nagem=pd.read_csv(\"/content/drive/MyDrive/Colab Notebooks/RECLAMEAQUI_NAGEM.csv\")\n"
      ]
    },
    {
      "cell_type": "code",
      "execution_count": 9,
      "id": "a67c90d5",
      "metadata": {
        "scrolled": true,
        "colab": {
          "base_uri": "https://localhost:8080/"
        },
        "id": "a67c90d5",
        "outputId": "c58a683e-a4d6-4de2-b7cf-6383b945d0fc"
      },
      "outputs": [
        {
          "output_type": "stream",
          "name": "stderr",
          "text": [
            "2024-01-25 14:40:38.796 \n",
            "  \u001b[33m\u001b[1mWarning:\u001b[0m to view this Streamlit app on a browser, run it with the following\n",
            "  command:\n",
            "\n",
            "    streamlit run /usr/local/lib/python3.10/dist-packages/colab_kernel_launcher.py [ARGUMENTS]\n"
          ]
        }
      ],
      "source": [
        "st.write(Nagem)"
      ]
    },
    {
      "cell_type": "code",
      "execution_count": 10,
      "id": "ad7e5a11",
      "metadata": {
        "id": "ad7e5a11"
      },
      "outputs": [],
      "source": [
        "Localidade = st.sidebar.selectbox(\"Selecione a Localidade\", Nagem[\"LOCAL\"].unique())\n"
      ]
    },
    {
      "cell_type": "code",
      "execution_count": 11,
      "id": "61803ad8",
      "metadata": {
        "id": "61803ad8"
      },
      "outputs": [],
      "source": [
        "Ano = st.sidebar.selectbox(\"Selecione o ANO\", Nagem[\"ANO\"].unique())\n"
      ]
    },
    {
      "cell_type": "code",
      "execution_count": 12,
      "id": "5c4a65f2",
      "metadata": {
        "id": "5c4a65f2"
      },
      "outputs": [],
      "source": [
        "Mês = st.sidebar.selectbox(\"Selecione o ANO\", Nagem[\"MES\"].unique())\n"
      ]
    },
    {
      "cell_type": "code",
      "execution_count": 13,
      "id": "59dbaac0",
      "metadata": {
        "id": "59dbaac0"
      },
      "outputs": [],
      "source": [
        "Filtro = Nagem[Nagem[\"LOCAL\"] == Localidade]\n"
      ]
    },
    {
      "cell_type": "code",
      "execution_count": 14,
      "id": "0c9b935b",
      "metadata": {
        "id": "0c9b935b"
      },
      "outputs": [],
      "source": [
        "st.write(Filtro)"
      ]
    },
    {
      "cell_type": "code",
      "execution_count": 15,
      "id": "34d7a551",
      "metadata": {
        "scrolled": true,
        "id": "34d7a551"
      },
      "outputs": [],
      "source": [
        "col1, col2 = st.columns(2)\n",
        "col3, col4, col5 = st.columns(3)"
      ]
    },
    {
      "cell_type": "code",
      "execution_count": 16,
      "id": "e9bdeb0e",
      "metadata": {
        "id": "e9bdeb0e"
      },
      "outputs": [],
      "source": [
        "fig = px.bar(Filtro, x=\"LOCAL\", y=\"CASOS\", color=\"LOCAL\", title=\"Total de Casos\")\n"
      ]
    },
    {
      "cell_type": "code",
      "execution_count": 17,
      "id": "f9e7a4f8",
      "metadata": {
        "colab": {
          "base_uri": "https://localhost:8080/"
        },
        "id": "f9e7a4f8",
        "outputId": "85b8225f-64e4-4302-ec9f-036cd20291a8"
      },
      "outputs": [
        {
          "output_type": "execute_result",
          "data": {
            "text/plain": [
              "DeltaGenerator()"
            ]
          },
          "metadata": {},
          "execution_count": 17
        }
      ],
      "source": [
        "col1.plotly_chart(fig, use_container_width=True)"
      ]
    }
  ],
  "metadata": {
    "kernelspec": {
      "display_name": "Python 3 (ipykernel)",
      "language": "python",
      "name": "python3"
    },
    "language_info": {
      "codemirror_mode": {
        "name": "ipython",
        "version": 3
      },
      "file_extension": ".py",
      "mimetype": "text/x-python",
      "name": "python",
      "nbconvert_exporter": "python",
      "pygments_lexer": "ipython3",
      "version": "3.11.5"
    },
    "colab": {
      "provenance": []
    }
  },
  "nbformat": 4,
  "nbformat_minor": 5
}